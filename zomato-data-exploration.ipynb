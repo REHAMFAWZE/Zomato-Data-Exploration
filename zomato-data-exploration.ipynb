{
 "cells": [
  {
   "cell_type": "markdown",
   "id": "57c161db",
   "metadata": {
    "papermill": {
     "duration": 0.008545,
     "end_time": "2025-02-08T21:54:59.236729",
     "exception": false,
     "start_time": "2025-02-08T21:54:59.228184",
     "status": "completed"
    },
    "tags": []
   },
   "source": [
    "<h1 style=\"background-color: purple; border: 2px solid black; color: black; display: table; margin: 0 auto; padding: 10px;\">\n",
    "  Zomato Restaurant Trends Analysis\n",
    "</h1>\n"
   ]
  },
  {
   "cell_type": "code",
   "execution_count": 1,
   "id": "9fae0707",
   "metadata": {
    "execution": {
     "iopub.execute_input": "2025-02-08T21:54:59.254986Z",
     "iopub.status.busy": "2025-02-08T21:54:59.254413Z",
     "iopub.status.idle": "2025-02-08T21:55:02.051717Z",
     "shell.execute_reply": "2025-02-08T21:55:02.050515Z"
    },
    "papermill": {
     "duration": 2.80872,
     "end_time": "2025-02-08T21:55:02.053900",
     "exception": false,
     "start_time": "2025-02-08T21:54:59.245180",
     "status": "completed"
    },
    "tags": []
   },
   "outputs": [],
   "source": [
    "import numpy as np\n",
    "import pandas as pd\n",
    "import matplotlib.pyplot as plt\n",
    "import seaborn as sns"
   ]
  },
  {
   "cell_type": "markdown",
   "id": "9e7b9927",
   "metadata": {
    "papermill": {
     "duration": 0.007182,
     "end_time": "2025-02-08T21:55:02.068817",
     "exception": false,
     "start_time": "2025-02-08T21:55:02.061635",
     "status": "completed"
    },
    "tags": []
   },
   "source": [
    "<h3 style=\"background-color: yellow; border: 2px solid black; color: black; display: inline-block; padding: 10px; text-align: left; margin: 0;\">\n",
    "  Load And Read Data\n",
    "</h3>\n"
   ]
  },
  {
   "cell_type": "code",
   "execution_count": 2,
   "id": "c71e2a9a",
   "metadata": {
    "execution": {
     "iopub.execute_input": "2025-02-08T21:55:02.085628Z",
     "iopub.status.busy": "2025-02-08T21:55:02.084947Z",
     "iopub.status.idle": "2025-02-08T21:55:02.113004Z",
     "shell.execute_reply": "2025-02-08T21:55:02.111711Z"
    },
    "papermill": {
     "duration": 0.038782,
     "end_time": "2025-02-08T21:55:02.114950",
     "exception": false,
     "start_time": "2025-02-08T21:55:02.076168",
     "status": "completed"
    },
    "tags": []
   },
   "outputs": [],
   "source": [
    "data=pd.read_csv('/kaggle/input/zomato-dataset/Zomato-data-.csv')"
   ]
  },
  {
   "cell_type": "code",
   "execution_count": 3,
   "id": "7a61e68b",
   "metadata": {
    "execution": {
     "iopub.execute_input": "2025-02-08T21:55:02.132190Z",
     "iopub.status.busy": "2025-02-08T21:55:02.131787Z",
     "iopub.status.idle": "2025-02-08T21:55:02.166851Z",
     "shell.execute_reply": "2025-02-08T21:55:02.165574Z"
    },
    "papermill": {
     "duration": 0.045462,
     "end_time": "2025-02-08T21:55:02.168650",
     "exception": false,
     "start_time": "2025-02-08T21:55:02.123188",
     "status": "completed"
    },
    "tags": []
   },
   "outputs": [
    {
     "data": {
      "text/html": [
       "<div>\n",
       "<style scoped>\n",
       "    .dataframe tbody tr th:only-of-type {\n",
       "        vertical-align: middle;\n",
       "    }\n",
       "\n",
       "    .dataframe tbody tr th {\n",
       "        vertical-align: top;\n",
       "    }\n",
       "\n",
       "    .dataframe thead th {\n",
       "        text-align: right;\n",
       "    }\n",
       "</style>\n",
       "<table border=\"1\" class=\"dataframe\">\n",
       "  <thead>\n",
       "    <tr style=\"text-align: right;\">\n",
       "      <th></th>\n",
       "      <th>name</th>\n",
       "      <th>online_order</th>\n",
       "      <th>book_table</th>\n",
       "      <th>rate</th>\n",
       "      <th>votes</th>\n",
       "      <th>approx_cost(for two people)</th>\n",
       "      <th>listed_in(type)</th>\n",
       "    </tr>\n",
       "  </thead>\n",
       "  <tbody>\n",
       "    <tr>\n",
       "      <th>0</th>\n",
       "      <td>Jalsa</td>\n",
       "      <td>Yes</td>\n",
       "      <td>Yes</td>\n",
       "      <td>4.1/5</td>\n",
       "      <td>775</td>\n",
       "      <td>800</td>\n",
       "      <td>Buffet</td>\n",
       "    </tr>\n",
       "    <tr>\n",
       "      <th>1</th>\n",
       "      <td>Spice Elephant</td>\n",
       "      <td>Yes</td>\n",
       "      <td>No</td>\n",
       "      <td>4.1/5</td>\n",
       "      <td>787</td>\n",
       "      <td>800</td>\n",
       "      <td>Buffet</td>\n",
       "    </tr>\n",
       "    <tr>\n",
       "      <th>2</th>\n",
       "      <td>San Churro Cafe</td>\n",
       "      <td>Yes</td>\n",
       "      <td>No</td>\n",
       "      <td>3.8/5</td>\n",
       "      <td>918</td>\n",
       "      <td>800</td>\n",
       "      <td>Buffet</td>\n",
       "    </tr>\n",
       "    <tr>\n",
       "      <th>3</th>\n",
       "      <td>Addhuri Udupi Bhojana</td>\n",
       "      <td>No</td>\n",
       "      <td>No</td>\n",
       "      <td>3.7/5</td>\n",
       "      <td>88</td>\n",
       "      <td>300</td>\n",
       "      <td>Buffet</td>\n",
       "    </tr>\n",
       "    <tr>\n",
       "      <th>4</th>\n",
       "      <td>Grand Village</td>\n",
       "      <td>No</td>\n",
       "      <td>No</td>\n",
       "      <td>3.8/5</td>\n",
       "      <td>166</td>\n",
       "      <td>600</td>\n",
       "      <td>Buffet</td>\n",
       "    </tr>\n",
       "    <tr>\n",
       "      <th>...</th>\n",
       "      <td>...</td>\n",
       "      <td>...</td>\n",
       "      <td>...</td>\n",
       "      <td>...</td>\n",
       "      <td>...</td>\n",
       "      <td>...</td>\n",
       "      <td>...</td>\n",
       "    </tr>\n",
       "    <tr>\n",
       "      <th>143</th>\n",
       "      <td>Melting Melodies</td>\n",
       "      <td>No</td>\n",
       "      <td>No</td>\n",
       "      <td>3.3/5</td>\n",
       "      <td>0</td>\n",
       "      <td>100</td>\n",
       "      <td>Dining</td>\n",
       "    </tr>\n",
       "    <tr>\n",
       "      <th>144</th>\n",
       "      <td>New Indraprasta</td>\n",
       "      <td>No</td>\n",
       "      <td>No</td>\n",
       "      <td>3.3/5</td>\n",
       "      <td>0</td>\n",
       "      <td>150</td>\n",
       "      <td>Dining</td>\n",
       "    </tr>\n",
       "    <tr>\n",
       "      <th>145</th>\n",
       "      <td>Anna Kuteera</td>\n",
       "      <td>Yes</td>\n",
       "      <td>No</td>\n",
       "      <td>4.0/5</td>\n",
       "      <td>771</td>\n",
       "      <td>450</td>\n",
       "      <td>Dining</td>\n",
       "    </tr>\n",
       "    <tr>\n",
       "      <th>146</th>\n",
       "      <td>Darbar</td>\n",
       "      <td>No</td>\n",
       "      <td>No</td>\n",
       "      <td>3.0/5</td>\n",
       "      <td>98</td>\n",
       "      <td>800</td>\n",
       "      <td>Dining</td>\n",
       "    </tr>\n",
       "    <tr>\n",
       "      <th>147</th>\n",
       "      <td>Vijayalakshmi</td>\n",
       "      <td>Yes</td>\n",
       "      <td>No</td>\n",
       "      <td>3.9/5</td>\n",
       "      <td>47</td>\n",
       "      <td>200</td>\n",
       "      <td>Dining</td>\n",
       "    </tr>\n",
       "  </tbody>\n",
       "</table>\n",
       "<p>148 rows × 7 columns</p>\n",
       "</div>"
      ],
      "text/plain": [
       "                      name online_order book_table   rate  votes  \\\n",
       "0                    Jalsa          Yes        Yes  4.1/5    775   \n",
       "1           Spice Elephant          Yes         No  4.1/5    787   \n",
       "2          San Churro Cafe          Yes         No  3.8/5    918   \n",
       "3    Addhuri Udupi Bhojana           No         No  3.7/5     88   \n",
       "4            Grand Village           No         No  3.8/5    166   \n",
       "..                     ...          ...        ...    ...    ...   \n",
       "143       Melting Melodies           No         No  3.3/5      0   \n",
       "144        New Indraprasta           No         No  3.3/5      0   \n",
       "145           Anna Kuteera          Yes         No  4.0/5    771   \n",
       "146                 Darbar           No         No  3.0/5     98   \n",
       "147          Vijayalakshmi          Yes         No  3.9/5     47   \n",
       "\n",
       "     approx_cost(for two people) listed_in(type)  \n",
       "0                            800          Buffet  \n",
       "1                            800          Buffet  \n",
       "2                            800          Buffet  \n",
       "3                            300          Buffet  \n",
       "4                            600          Buffet  \n",
       "..                           ...             ...  \n",
       "143                          100          Dining  \n",
       "144                          150          Dining  \n",
       "145                          450          Dining  \n",
       "146                          800          Dining  \n",
       "147                          200          Dining  \n",
       "\n",
       "[148 rows x 7 columns]"
      ]
     },
     "execution_count": 3,
     "metadata": {},
     "output_type": "execute_result"
    }
   ],
   "source": [
    "data"
   ]
  },
  {
   "cell_type": "markdown",
   "id": "63854d21",
   "metadata": {
    "papermill": {
     "duration": 0.008213,
     "end_time": "2025-02-08T21:55:02.184847",
     "exception": false,
     "start_time": "2025-02-08T21:55:02.176634",
     "status": "completed"
    },
    "tags": []
   },
   "source": [
    "<h3 style=\"background-color: yellow; border: 2px solid black; color: black; display: inline-block; padding: 10px; text-align: left; margin: 0;\">\n",
    "  View Data\n",
    "</h3>\n"
   ]
  },
  {
   "cell_type": "code",
   "execution_count": 4,
   "id": "3c137c5a",
   "metadata": {
    "execution": {
     "iopub.execute_input": "2025-02-08T21:55:02.201710Z",
     "iopub.status.busy": "2025-02-08T21:55:02.201222Z",
     "iopub.status.idle": "2025-02-08T21:55:02.208051Z",
     "shell.execute_reply": "2025-02-08T21:55:02.206555Z"
    },
    "papermill": {
     "duration": 0.017527,
     "end_time": "2025-02-08T21:55:02.210001",
     "exception": false,
     "start_time": "2025-02-08T21:55:02.192474",
     "status": "completed"
    },
    "tags": []
   },
   "outputs": [
    {
     "data": {
      "text/plain": [
       "(148, 7)"
      ]
     },
     "execution_count": 4,
     "metadata": {},
     "output_type": "execute_result"
    }
   ],
   "source": [
    "data.shape"
   ]
  },
  {
   "cell_type": "code",
   "execution_count": 5,
   "id": "188e17e1",
   "metadata": {
    "execution": {
     "iopub.execute_input": "2025-02-08T21:55:02.227555Z",
     "iopub.status.busy": "2025-02-08T21:55:02.227095Z",
     "iopub.status.idle": "2025-02-08T21:55:02.235965Z",
     "shell.execute_reply": "2025-02-08T21:55:02.234621Z"
    },
    "papermill": {
     "duration": 0.020081,
     "end_time": "2025-02-08T21:55:02.237987",
     "exception": false,
     "start_time": "2025-02-08T21:55:02.217906",
     "status": "completed"
    },
    "tags": []
   },
   "outputs": [
    {
     "data": {
      "text/plain": [
       "Index(['name', 'online_order', 'book_table', 'rate', 'votes',\n",
       "       'approx_cost(for two people)', 'listed_in(type)'],\n",
       "      dtype='object')"
      ]
     },
     "execution_count": 5,
     "metadata": {},
     "output_type": "execute_result"
    }
   ],
   "source": [
    "data.columns"
   ]
  },
  {
   "cell_type": "code",
   "execution_count": 6,
   "id": "154e7941",
   "metadata": {
    "execution": {
     "iopub.execute_input": "2025-02-08T21:55:02.255719Z",
     "iopub.status.busy": "2025-02-08T21:55:02.255224Z",
     "iopub.status.idle": "2025-02-08T21:55:02.277688Z",
     "shell.execute_reply": "2025-02-08T21:55:02.276402Z"
    },
    "papermill": {
     "duration": 0.03343,
     "end_time": "2025-02-08T21:55:02.279456",
     "exception": false,
     "start_time": "2025-02-08T21:55:02.246026",
     "status": "completed"
    },
    "tags": []
   },
   "outputs": [
    {
     "data": {
      "text/html": [
       "<div>\n",
       "<style scoped>\n",
       "    .dataframe tbody tr th:only-of-type {\n",
       "        vertical-align: middle;\n",
       "    }\n",
       "\n",
       "    .dataframe tbody tr th {\n",
       "        vertical-align: top;\n",
       "    }\n",
       "\n",
       "    .dataframe thead th {\n",
       "        text-align: right;\n",
       "    }\n",
       "</style>\n",
       "<table border=\"1\" class=\"dataframe\">\n",
       "  <thead>\n",
       "    <tr style=\"text-align: right;\">\n",
       "      <th></th>\n",
       "      <th>votes</th>\n",
       "      <th>approx_cost(for two people)</th>\n",
       "    </tr>\n",
       "  </thead>\n",
       "  <tbody>\n",
       "    <tr>\n",
       "      <th>count</th>\n",
       "      <td>148.000000</td>\n",
       "      <td>148.000000</td>\n",
       "    </tr>\n",
       "    <tr>\n",
       "      <th>mean</th>\n",
       "      <td>264.810811</td>\n",
       "      <td>418.243243</td>\n",
       "    </tr>\n",
       "    <tr>\n",
       "      <th>std</th>\n",
       "      <td>653.676951</td>\n",
       "      <td>223.085098</td>\n",
       "    </tr>\n",
       "    <tr>\n",
       "      <th>min</th>\n",
       "      <td>0.000000</td>\n",
       "      <td>100.000000</td>\n",
       "    </tr>\n",
       "    <tr>\n",
       "      <th>25%</th>\n",
       "      <td>6.750000</td>\n",
       "      <td>200.000000</td>\n",
       "    </tr>\n",
       "    <tr>\n",
       "      <th>50%</th>\n",
       "      <td>43.500000</td>\n",
       "      <td>400.000000</td>\n",
       "    </tr>\n",
       "    <tr>\n",
       "      <th>75%</th>\n",
       "      <td>221.750000</td>\n",
       "      <td>600.000000</td>\n",
       "    </tr>\n",
       "    <tr>\n",
       "      <th>max</th>\n",
       "      <td>4884.000000</td>\n",
       "      <td>950.000000</td>\n",
       "    </tr>\n",
       "  </tbody>\n",
       "</table>\n",
       "</div>"
      ],
      "text/plain": [
       "             votes  approx_cost(for two people)\n",
       "count   148.000000                   148.000000\n",
       "mean    264.810811                   418.243243\n",
       "std     653.676951                   223.085098\n",
       "min       0.000000                   100.000000\n",
       "25%       6.750000                   200.000000\n",
       "50%      43.500000                   400.000000\n",
       "75%     221.750000                   600.000000\n",
       "max    4884.000000                   950.000000"
      ]
     },
     "execution_count": 6,
     "metadata": {},
     "output_type": "execute_result"
    }
   ],
   "source": [
    "data.describe()"
   ]
  },
  {
   "cell_type": "markdown",
   "id": "7b53e96f",
   "metadata": {
    "papermill": {
     "duration": 0.008016,
     "end_time": "2025-02-08T21:55:02.296064",
     "exception": false,
     "start_time": "2025-02-08T21:55:02.288048",
     "status": "completed"
    },
    "tags": []
   },
   "source": [
    "<h4 style=\"text-align: center; color: #444;\">Observations</h4>\n",
    "\n",
    "<p>The <strong>Votes</strong> feature has a mean of 264.81 and a standard deviation of 653.68, indicating a large variation in the number of votes restaurants have received. The minimum number of votes is 0, while the maximum value is 4884, which suggests the presence of extreme outliers. The 25th percentile is 6.75, the median is 43.5, and the 75th percentile is 221.75. This indicates that most restaurants have a relatively low number of votes, but there are a few restaurants with exceptionally high numbers of votes. The distribution of the votes feature is right-skewed, meaning that the mean is much higher than the median, and the data is heavily influenced by a small number of restaurants with a large number of votes. The large standard deviation further emphasizes the spread of the data, showing that the data is not uniformly distributed.</p>\n",
    "\n",
    "<p>On the other hand, the <strong>Approximate Cost for Two People</strong> feature has a mean of 418.24 and a standard deviation of 223.09. The minimum cost is 100, and the maximum is 950, with the 25th percentile at 200, the median at 400, and the 75th percentile at 600. This suggests that most restaurants have a cost for two people between 200 and 600, with a relatively moderate range. The distribution of this feature is semi-symmetric, with the mean being close to the median, indicating that the data is more balanced compared to the \"Votes\" feature. The lower standard deviation suggests less variability in the cost for two people compared to the votes feature. Most restaurants are clustered around the mid-range cost, and there are fewer extreme outliers in this case.</p>\n"
   ]
  },
  {
   "cell_type": "code",
   "execution_count": 7,
   "id": "58de0f75",
   "metadata": {
    "execution": {
     "iopub.execute_input": "2025-02-08T21:55:02.313794Z",
     "iopub.status.busy": "2025-02-08T21:55:02.313379Z",
     "iopub.status.idle": "2025-02-08T21:55:02.339676Z",
     "shell.execute_reply": "2025-02-08T21:55:02.337841Z"
    },
    "papermill": {
     "duration": 0.037909,
     "end_time": "2025-02-08T21:55:02.341857",
     "exception": false,
     "start_time": "2025-02-08T21:55:02.303948",
     "status": "completed"
    },
    "tags": []
   },
   "outputs": [
    {
     "name": "stdout",
     "output_type": "stream",
     "text": [
      "<class 'pandas.core.frame.DataFrame'>\n",
      "RangeIndex: 148 entries, 0 to 147\n",
      "Data columns (total 7 columns):\n",
      " #   Column                       Non-Null Count  Dtype \n",
      "---  ------                       --------------  ----- \n",
      " 0   name                         148 non-null    object\n",
      " 1   online_order                 148 non-null    object\n",
      " 2   book_table                   148 non-null    object\n",
      " 3   rate                         148 non-null    object\n",
      " 4   votes                        148 non-null    int64 \n",
      " 5   approx_cost(for two people)  148 non-null    int64 \n",
      " 6   listed_in(type)              148 non-null    object\n",
      "dtypes: int64(2), object(5)\n",
      "memory usage: 8.2+ KB\n"
     ]
    }
   ],
   "source": [
    "data.info()"
   ]
  },
  {
   "cell_type": "code",
   "execution_count": 8,
   "id": "477b51f9",
   "metadata": {
    "execution": {
     "iopub.execute_input": "2025-02-08T21:55:02.360607Z",
     "iopub.status.busy": "2025-02-08T21:55:02.360070Z",
     "iopub.status.idle": "2025-02-08T21:55:02.368002Z",
     "shell.execute_reply": "2025-02-08T21:55:02.366882Z"
    },
    "papermill": {
     "duration": 0.019142,
     "end_time": "2025-02-08T21:55:02.369821",
     "exception": false,
     "start_time": "2025-02-08T21:55:02.350679",
     "status": "completed"
    },
    "tags": []
   },
   "outputs": [
    {
     "data": {
      "text/plain": [
       "name                           object\n",
       "online_order                   object\n",
       "book_table                     object\n",
       "rate                           object\n",
       "votes                           int64\n",
       "approx_cost(for two people)     int64\n",
       "listed_in(type)                object\n",
       "dtype: object"
      ]
     },
     "execution_count": 8,
     "metadata": {},
     "output_type": "execute_result"
    }
   ],
   "source": [
    "data.dtypes"
   ]
  },
  {
   "cell_type": "markdown",
   "id": "14cb35f8",
   "metadata": {
    "papermill": {
     "duration": 0.008092,
     "end_time": "2025-02-08T21:55:02.387057",
     "exception": false,
     "start_time": "2025-02-08T21:55:02.378965",
     "status": "completed"
    },
    "tags": []
   },
   "source": [
    "<h3 style=\"background-color: yellow; border: 2px solid black; color: black; display: inline-block; padding: 10px; text-align: left; margin: 0;\">\n",
    "  EDA\n",
    "</h3>\n"
   ]
  },
  {
   "cell_type": "code",
   "execution_count": 9,
   "id": "83452d5f",
   "metadata": {
    "execution": {
     "iopub.execute_input": "2025-02-08T21:55:02.405274Z",
     "iopub.status.busy": "2025-02-08T21:55:02.404874Z",
     "iopub.status.idle": "2025-02-08T21:55:02.411696Z",
     "shell.execute_reply": "2025-02-08T21:55:02.410419Z"
    },
    "papermill": {
     "duration": 0.018167,
     "end_time": "2025-02-08T21:55:02.413567",
     "exception": false,
     "start_time": "2025-02-08T21:55:02.395400",
     "status": "completed"
    },
    "tags": []
   },
   "outputs": [
    {
     "data": {
      "text/plain": [
       "array(['Buffet', 'Cafes', 'other', 'Dining'], dtype=object)"
      ]
     },
     "execution_count": 9,
     "metadata": {},
     "output_type": "execute_result"
    }
   ],
   "source": [
    "data['listed_in(type)'].unique()"
   ]
  },
  {
   "cell_type": "code",
   "execution_count": 10,
   "id": "094e2735",
   "metadata": {
    "execution": {
     "iopub.execute_input": "2025-02-08T21:55:02.432158Z",
     "iopub.status.busy": "2025-02-08T21:55:02.431770Z",
     "iopub.status.idle": "2025-02-08T21:55:02.440105Z",
     "shell.execute_reply": "2025-02-08T21:55:02.438826Z"
    },
    "papermill": {
     "duration": 0.019682,
     "end_time": "2025-02-08T21:55:02.441902",
     "exception": false,
     "start_time": "2025-02-08T21:55:02.422220",
     "status": "completed"
    },
    "tags": []
   },
   "outputs": [
    {
     "data": {
      "text/plain": [
       "name                           0\n",
       "online_order                   0\n",
       "book_table                     0\n",
       "rate                           0\n",
       "votes                          0\n",
       "approx_cost(for two people)    0\n",
       "listed_in(type)                0\n",
       "dtype: int64"
      ]
     },
     "execution_count": 10,
     "metadata": {},
     "output_type": "execute_result"
    }
   ],
   "source": [
    "data.isnull().sum()"
   ]
  },
  {
   "cell_type": "code",
   "execution_count": 11,
   "id": "ba4e8d2d",
   "metadata": {
    "execution": {
     "iopub.execute_input": "2025-02-08T21:55:02.460788Z",
     "iopub.status.busy": "2025-02-08T21:55:02.460372Z",
     "iopub.status.idle": "2025-02-08T21:55:03.133722Z",
     "shell.execute_reply": "2025-02-08T21:55:03.132521Z"
    },
    "papermill": {
     "duration": 0.68485,
     "end_time": "2025-02-08T21:55:03.135539",
     "exception": false,
     "start_time": "2025-02-08T21:55:02.450689",
     "status": "completed"
    },
    "tags": []
   },
   "outputs": [
    {
     "data": {
      "text/plain": [
       "Text(0.5, 1.0, 'Null Values Heatmap')"
      ]
     },
     "execution_count": 11,
     "metadata": {},
     "output_type": "execute_result"
    },
    {
     "data": {
      "image/png": "[encoded data removed]",
      "text/plain": [
       "<Figure size 800x600 with 2 Axes>"
      ]
     },
     "metadata": {},
     "output_type": "display_data"
    }
   ],
   "source": [
    "plt.figure(figsize=(8, 6))\n",
    "sns.heatmap(data.isnull())\n",
    "plt.title('Null Values Heatmap')"
   ]
  },
  {
   "cell_type": "code",
   "execution_count": 12,
   "id": "e6ae15d7",
   "metadata": {
    "execution": {
     "iopub.execute_input": "2025-02-08T21:55:03.157350Z",
     "iopub.status.busy": "2025-02-08T21:55:03.156879Z",
     "iopub.status.idle": "2025-02-08T21:55:03.165819Z",
     "shell.execute_reply": "2025-02-08T21:55:03.164369Z"
    },
    "papermill": {
     "duration": 0.022051,
     "end_time": "2025-02-08T21:55:03.167975",
     "exception": false,
     "start_time": "2025-02-08T21:55:03.145924",
     "status": "completed"
    },
    "tags": []
   },
   "outputs": [
    {
     "data": {
      "text/plain": [
       "name                           0\n",
       "online_order                   0\n",
       "book_table                     0\n",
       "rate                           0\n",
       "votes                          0\n",
       "approx_cost(for two people)    0\n",
       "listed_in(type)                0\n",
       "dtype: int64"
      ]
     },
     "execution_count": 12,
     "metadata": {},
     "output_type": "execute_result"
    }
   ],
   "source": [
    "(data==np.inf).sum()"
   ]
  },
  {
   "cell_type": "code",
   "execution_count": 13,
   "id": "e23da8fb",
   "metadata": {
    "execution": {
     "iopub.execute_input": "2025-02-08T21:55:03.189562Z",
     "iopub.status.busy": "2025-02-08T21:55:03.189084Z",
     "iopub.status.idle": "2025-02-08T21:55:03.197899Z",
     "shell.execute_reply": "2025-02-08T21:55:03.196806Z"
    },
    "papermill": {
     "duration": 0.02186,
     "end_time": "2025-02-08T21:55:03.199845",
     "exception": false,
     "start_time": "2025-02-08T21:55:03.177985",
     "status": "completed"
    },
    "tags": []
   },
   "outputs": [
    {
     "data": {
      "text/plain": [
       "name                           0\n",
       "online_order                   0\n",
       "book_table                     0\n",
       "rate                           0\n",
       "votes                          0\n",
       "approx_cost(for two people)    0\n",
       "listed_in(type)                0\n",
       "dtype: int64"
      ]
     },
     "execution_count": 13,
     "metadata": {},
     "output_type": "execute_result"
    }
   ],
   "source": [
    "(data==-np.inf).sum()"
   ]
  },
  {
   "cell_type": "code",
   "execution_count": 14,
   "id": "5c7a98db",
   "metadata": {
    "execution": {
     "iopub.execute_input": "2025-02-08T21:55:03.223089Z",
     "iopub.status.busy": "2025-02-08T21:55:03.222732Z",
     "iopub.status.idle": "2025-02-08T21:55:03.232604Z",
     "shell.execute_reply": "2025-02-08T21:55:03.231369Z"
    },
    "papermill": {
     "duration": 0.02439,
     "end_time": "2025-02-08T21:55:03.234479",
     "exception": false,
     "start_time": "2025-02-08T21:55:03.210089",
     "status": "completed"
    },
    "tags": []
   },
   "outputs": [
    {
     "data": {
      "text/plain": [
       "0"
      ]
     },
     "execution_count": 14,
     "metadata": {},
     "output_type": "execute_result"
    }
   ],
   "source": [
    "data.duplicated().sum()"
   ]
  },
  {
   "cell_type": "code",
   "execution_count": 15,
   "id": "523bec89",
   "metadata": {
    "execution": {
     "iopub.execute_input": "2025-02-08T21:55:03.258693Z",
     "iopub.status.busy": "2025-02-08T21:55:03.258238Z",
     "iopub.status.idle": "2025-02-08T21:55:03.409333Z",
     "shell.execute_reply": "2025-02-08T21:55:03.408177Z"
    },
    "papermill": {
     "duration": 0.164482,
     "end_time": "2025-02-08T21:55:03.411136",
     "exception": false,
     "start_time": "2025-02-08T21:55:03.246654",
     "status": "completed"
    },
    "tags": []
   },
   "outputs": [
    {
     "data": {
      "text/plain": [
       "<Axes: >"
      ]
     },
     "execution_count": 15,
     "metadata": {},
     "output_type": "execute_result"
    },
    {
     "data": {
      "image/png": "[encoded data removed]",
      "text/plain": [
       "<Figure size 800x800 with 1 Axes>"
      ]
     },
     "metadata": {},
     "output_type": "display_data"
    }
   ],
   "source": [
    "plt.figure(figsize=(8,8))\n",
    "sns.boxplot(data=data['votes'],palette='Set2')"
   ]
  },
  {
   "cell_type": "markdown",
   "id": "06a3ecbc",
   "metadata": {
    "papermill": {
     "duration": 0.009811,
     "end_time": "2025-02-08T21:55:03.431487",
     "exception": false,
     "start_time": "2025-02-08T21:55:03.421676",
     "status": "completed"
    },
    "tags": []
   },
   "source": [
    "<h3 style=\"background-color: yellow; border: 2px solid black; color: black; display: inline-block; padding: 10px; text-align: left; margin: 0;\">\n",
    "  Cleaning Data\n",
    "</h3>\n"
   ]
  },
  {
   "cell_type": "code",
   "execution_count": 16,
   "id": "a1d19d3d",
   "metadata": {
    "execution": {
     "iopub.execute_input": "2025-02-08T21:55:03.453635Z",
     "iopub.status.busy": "2025-02-08T21:55:03.453153Z",
     "iopub.status.idle": "2025-02-08T21:55:03.459326Z",
     "shell.execute_reply": "2025-02-08T21:55:03.458188Z"
    },
    "papermill": {
     "duration": 0.019368,
     "end_time": "2025-02-08T21:55:03.461036",
     "exception": false,
     "start_time": "2025-02-08T21:55:03.441668",
     "status": "completed"
    },
    "tags": []
   },
   "outputs": [],
   "source": [
    "data['name']=data['name'].astype('string')"
   ]
  },
  {
   "cell_type": "code",
   "execution_count": 17,
   "id": "ae80153d",
   "metadata": {
    "execution": {
     "iopub.execute_input": "2025-02-08T21:55:03.483466Z",
     "iopub.status.busy": "2025-02-08T21:55:03.482994Z",
     "iopub.status.idle": "2025-02-08T21:55:03.489583Z",
     "shell.execute_reply": "2025-02-08T21:55:03.488404Z"
    },
    "papermill": {
     "duration": 0.019643,
     "end_time": "2025-02-08T21:55:03.491374",
     "exception": false,
     "start_time": "2025-02-08T21:55:03.471731",
     "status": "completed"
    },
    "tags": []
   },
   "outputs": [],
   "source": [
    "data['listed_in(type)']=data['listed_in(type)'].astype('string')"
   ]
  },
  {
   "cell_type": "code",
   "execution_count": 18,
   "id": "60a37c4e",
   "metadata": {
    "execution": {
     "iopub.execute_input": "2025-02-08T21:55:03.513275Z",
     "iopub.status.busy": "2025-02-08T21:55:03.512775Z",
     "iopub.status.idle": "2025-02-08T21:55:03.521772Z",
     "shell.execute_reply": "2025-02-08T21:55:03.520486Z"
    },
    "papermill": {
     "duration": 0.022089,
     "end_time": "2025-02-08T21:55:03.523706",
     "exception": false,
     "start_time": "2025-02-08T21:55:03.501617",
     "status": "completed"
    },
    "tags": []
   },
   "outputs": [],
   "source": [
    "Q1=data['votes'].quantile(0.25)\n",
    "Q3=data['votes'].quantile(0.75)\n",
    "IQR=Q3-Q1\n",
    "upperlimit=Q3+1.5*IQR\n",
    "data['votes']=data['votes'].apply(lambda x:min(x,upperlimit))"
   ]
  },
  {
   "cell_type": "code",
   "execution_count": 19,
   "id": "03dccc61",
   "metadata": {
    "execution": {
     "iopub.execute_input": "2025-02-08T21:55:03.545799Z",
     "iopub.status.busy": "2025-02-08T21:55:03.545364Z",
     "iopub.status.idle": "2025-02-08T21:55:03.704687Z",
     "shell.execute_reply": "2025-02-08T21:55:03.702786Z"
    },
    "papermill": {
     "duration": 0.172803,
     "end_time": "2025-02-08T21:55:03.706899",
     "exception": false,
     "start_time": "2025-02-08T21:55:03.534096",
     "status": "completed"
    },
    "tags": []
   },
   "outputs": [
    {
     "data": {
      "text/plain": [
       "<Axes: >"
      ]
     },
     "execution_count": 19,
     "metadata": {},
     "output_type": "execute_result"
    },
    {
     "data": {
      "image/png": "[encoded data removed]",
      "text/plain": [
       "<Figure size 800x800 with 1 Axes>"
      ]
     },
     "metadata": {},
     "output_type": "display_data"
    }
   ],
   "source": [
    "plt.figure(figsize=(8,8))\n",
    "sns.boxplot(data=data['votes'],palette='Set2')"
   ]
  },
  {
   "cell_type": "markdown",
   "id": "b2d0e3f8",
   "metadata": {
    "papermill": {
     "duration": 0.013442,
     "end_time": "2025-02-08T21:55:03.733164",
     "exception": false,
     "start_time": "2025-02-08T21:55:03.719722",
     "status": "completed"
    },
    "tags": []
   },
   "source": [
    "<h3 style=\"background-color: yellow; border: 2px solid black; color: black; display: inline-block; padding: 10px; text-align: left; margin: 0;\">\n",
    "  visualization Data\n",
    "</h3>\n"
   ]
  },
  {
   "cell_type": "code",
   "execution_count": 20,
   "id": "7eb770fe",
   "metadata": {
    "execution": {
     "iopub.execute_input": "2025-02-08T21:55:03.761197Z",
     "iopub.status.busy": "2025-02-08T21:55:03.760647Z",
     "iopub.status.idle": "2025-02-08T21:55:03.973094Z",
     "shell.execute_reply": "2025-02-08T21:55:03.971973Z"
    },
    "papermill": {
     "duration": 0.22825,
     "end_time": "2025-02-08T21:55:03.974964",
     "exception": false,
     "start_time": "2025-02-08T21:55:03.746714",
     "status": "completed"
    },
    "tags": []
   },
   "outputs": [
    {
     "data": {
      "text/plain": [
       "<Axes: ylabel='count'>"
      ]
     },
     "execution_count": 20,
     "metadata": {},
     "output_type": "execute_result"
    },
    {
     "data": {
      "image/png": "[encoded data removed]",
      "text/plain": [
       "<Figure size 640x480 with 1 Axes>"
      ]
     },
     "metadata": {},
     "output_type": "display_data"
    }
   ],
   "source": [
    "data['book_table'].value_counts().plot.pie(autopct='%.2f%%',colors=['#ff9999','#66b3ff','#99ff99'])"
   ]
  },
  {
   "cell_type": "markdown",
   "id": "95c006ab",
   "metadata": {
    "papermill": {
     "duration": 0.019409,
     "end_time": "2025-02-08T21:55:04.010851",
     "exception": false,
     "start_time": "2025-02-08T21:55:03.991442",
     "status": "completed"
    },
    "tags": []
   },
   "source": [
    "<h3 style=\"color: black; display: inline-block; padding: 10px; text-align: left; margin: 0;\">\n",
    "  Data Feature: Book Table Bias\n",
    "</h3>\n",
    "<p>\n",
    "  The data shows a bias towards people who do not book a table. This means that the majority of the individuals who come to the restaurant have not made a reservation in advance.\n",
    "</p>\n"
   ]
  },
  {
   "cell_type": "code",
   "execution_count": 21,
   "id": "9e7d12c7",
   "metadata": {
    "execution": {
     "iopub.execute_input": "2025-02-08T21:55:04.040483Z",
     "iopub.status.busy": "2025-02-08T21:55:04.040080Z",
     "iopub.status.idle": "2025-02-08T21:55:04.161654Z",
     "shell.execute_reply": "2025-02-08T21:55:04.160170Z"
    },
    "papermill": {
     "duration": 0.137485,
     "end_time": "2025-02-08T21:55:04.163498",
     "exception": false,
     "start_time": "2025-02-08T21:55:04.026013",
     "status": "completed"
    },
    "tags": []
   },
   "outputs": [
    {
     "data": {
      "text/plain": [
       "<Axes: ylabel='count'>"
      ]
     },
     "execution_count": 21,
     "metadata": {},
     "output_type": "execute_result"
    },
    {
     "data": {
      "image/png": "[encoded data removed]",
      "text/plain": [
       "<Figure size 640x480 with 1 Axes>"
      ]
     },
     "metadata": {},
     "output_type": "display_data"
    }
   ],
   "source": [
    "data['listed_in(type)'].value_counts().plot.pie(autopct='%.2f%%',colors=['#4682b4', '#32cd32', '#ff4500', '#8a2be2'])"
   ]
  },
  {
   "cell_type": "markdown",
   "id": "b7159400",
   "metadata": {
    "papermill": {
     "duration": 0.011116,
     "end_time": "2025-02-08T21:55:04.186193",
     "exception": false,
     "start_time": "2025-02-08T21:55:04.175077",
     "status": "completed"
    },
    "tags": []
   },
   "source": [
    "<h3 style=\"color: black; display: inline-block; padding: 10px; text-align: left; margin: 0;\">\n",
    "  Data Feature: listed_in(type) Bias to Dining\n",
    "</h3>\n",
    "<p>\n",
    "  The data shows a bias towards the \"Dining\" category in the <strong>listed_in(type)</strong> feature. This means that a significant portion of the unique values in this feature corresponds to restaurants listed under the \"Dining\" category.\n",
    "</p>\n"
   ]
  },
  {
   "cell_type": "code",
   "execution_count": 22,
   "id": "9ba31cb3",
   "metadata": {
    "execution": {
     "iopub.execute_input": "2025-02-08T21:55:04.210831Z",
     "iopub.status.busy": "2025-02-08T21:55:04.210396Z",
     "iopub.status.idle": "2025-02-08T21:55:04.217344Z",
     "shell.execute_reply": "2025-02-08T21:55:04.216201Z"
    },
    "papermill": {
     "duration": 0.021304,
     "end_time": "2025-02-08T21:55:04.219034",
     "exception": false,
     "start_time": "2025-02-08T21:55:04.197730",
     "status": "completed"
    },
    "tags": []
   },
   "outputs": [
    {
     "data": {
      "text/plain": [
       "Index(['name', 'online_order', 'book_table', 'rate', 'votes',\n",
       "       'approx_cost(for two people)', 'listed_in(type)'],\n",
       "      dtype='object')"
      ]
     },
     "execution_count": 22,
     "metadata": {},
     "output_type": "execute_result"
    }
   ],
   "source": [
    "data.columns"
   ]
  },
  {
   "cell_type": "code",
   "execution_count": 23,
   "id": "18f8f9ae",
   "metadata": {
    "execution": {
     "iopub.execute_input": "2025-02-08T21:55:04.246060Z",
     "iopub.status.busy": "2025-02-08T21:55:04.245591Z",
     "iopub.status.idle": "2025-02-08T21:55:04.535699Z",
     "shell.execute_reply": "2025-02-08T21:55:04.534301Z"
    },
    "papermill": {
     "duration": 0.306272,
     "end_time": "2025-02-08T21:55:04.537843",
     "exception": false,
     "start_time": "2025-02-08T21:55:04.231571",
     "status": "completed"
    },
    "tags": []
   },
   "outputs": [
    {
     "data": {
      "text/plain": [
       "<Axes: xlabel='online_order', ylabel='listed_in(type)'>"
      ]
     },
     "execution_count": 23,
     "metadata": {},
     "output_type": "execute_result"
    },
    {
     "data": {
      "image/png": "[encoded data removed]",
      "text/plain": [
       "<Figure size 800x800 with 2 Axes>"
      ]
     },
     "metadata": {},
     "output_type": "display_data"
    }
   ],
   "source": [
    "cross_tab=pd.crosstab(data['listed_in(type)'],data['online_order'])\n",
    "plt.figure(figsize=(8,8))\n",
    "sns.heatmap(cross_tab, annot=True, cmap='Blues', fmt='d', cbar_kws={'label': 'Count'})"
   ]
  },
  {
   "cell_type": "code",
   "execution_count": 24,
   "id": "1101a9cc",
   "metadata": {
    "execution": {
     "iopub.execute_input": "2025-02-08T21:55:04.565461Z",
     "iopub.status.busy": "2025-02-08T21:55:04.565022Z",
     "iopub.status.idle": "2025-02-08T21:55:04.585004Z",
     "shell.execute_reply": "2025-02-08T21:55:04.583569Z"
    },
    "papermill": {
     "duration": 0.035871,
     "end_time": "2025-02-08T21:55:04.586978",
     "exception": false,
     "start_time": "2025-02-08T21:55:04.551107",
     "status": "completed"
    },
    "tags": []
   },
   "outputs": [
    {
     "data": {
      "text/html": [
       "<div>\n",
       "<style scoped>\n",
       "    .dataframe tbody tr th:only-of-type {\n",
       "        vertical-align: middle;\n",
       "    }\n",
       "\n",
       "    .dataframe tbody tr th {\n",
       "        vertical-align: top;\n",
       "    }\n",
       "\n",
       "    .dataframe thead th {\n",
       "        text-align: right;\n",
       "    }\n",
       "</style>\n",
       "<table border=\"1\" class=\"dataframe\">\n",
       "  <thead>\n",
       "    <tr style=\"text-align: right;\">\n",
       "      <th>listed_in(type)</th>\n",
       "      <th>Buffet</th>\n",
       "      <th>Cafes</th>\n",
       "      <th>Dining</th>\n",
       "      <th>other</th>\n",
       "    </tr>\n",
       "    <tr>\n",
       "      <th>online_order</th>\n",
       "      <th></th>\n",
       "      <th></th>\n",
       "      <th></th>\n",
       "      <th></th>\n",
       "    </tr>\n",
       "  </thead>\n",
       "  <tbody>\n",
       "    <tr>\n",
       "      <th>No</th>\n",
       "      <td>3</td>\n",
       "      <td>8</td>\n",
       "      <td>77</td>\n",
       "      <td>2</td>\n",
       "    </tr>\n",
       "    <tr>\n",
       "      <th>Yes</th>\n",
       "      <td>4</td>\n",
       "      <td>15</td>\n",
       "      <td>33</td>\n",
       "      <td>6</td>\n",
       "    </tr>\n",
       "  </tbody>\n",
       "</table>\n",
       "</div>"
      ],
      "text/plain": [
       "listed_in(type)  Buffet  Cafes  Dining  other\n",
       "online_order                                 \n",
       "No                    3      8      77      2\n",
       "Yes                   4     15      33      6"
      ]
     },
     "execution_count": 24,
     "metadata": {},
     "output_type": "execute_result"
    }
   ],
   "source": [
    "pd.crosstab(data['online_order'],data['listed_in(type)'])"
   ]
  },
  {
   "cell_type": "code",
   "execution_count": 25,
   "id": "4e68d5ed",
   "metadata": {
    "execution": {
     "iopub.execute_input": "2025-02-08T21:55:04.615012Z",
     "iopub.status.busy": "2025-02-08T21:55:04.614621Z",
     "iopub.status.idle": "2025-02-08T21:55:05.009828Z",
     "shell.execute_reply": "2025-02-08T21:55:05.008555Z"
    },
    "papermill": {
     "duration": 0.411608,
     "end_time": "2025-02-08T21:55:05.011902",
     "exception": false,
     "start_time": "2025-02-08T21:55:04.600294",
     "status": "completed"
    },
    "tags": []
   },
   "outputs": [
    {
     "data": {
      "text/plain": [
       "<Axes: xlabel='online_order', ylabel='count'>"
      ]
     },
     "execution_count": 25,
     "metadata": {},
     "output_type": "execute_result"
    },
    {
     "data": {
      "image/png": "[encoded data removed]",
      "text/plain": [
       "<Figure size 800x800 with 1 Axes>"
      ]
     },
     "metadata": {},
     "output_type": "display_data"
    }
   ],
   "source": [
    "\n",
    "plt.figure(figsize=(8,8))\n",
    "sns.countplot(x='online_order',data=data,hue='listed_in(type)')"
   ]
  },
  {
   "cell_type": "code",
   "execution_count": 26,
   "id": "a3932384",
   "metadata": {
    "execution": {
     "iopub.execute_input": "2025-02-08T21:55:05.040009Z",
     "iopub.status.busy": "2025-02-08T21:55:05.039598Z",
     "iopub.status.idle": "2025-02-08T21:55:05.055858Z",
     "shell.execute_reply": "2025-02-08T21:55:05.054541Z"
    },
    "papermill": {
     "duration": 0.032352,
     "end_time": "2025-02-08T21:55:05.057637",
     "exception": false,
     "start_time": "2025-02-08T21:55:05.025285",
     "status": "completed"
    },
    "tags": []
   },
   "outputs": [
    {
     "data": {
      "text/html": [
       "<div>\n",
       "<style scoped>\n",
       "    .dataframe tbody tr th:only-of-type {\n",
       "        vertical-align: middle;\n",
       "    }\n",
       "\n",
       "    .dataframe tbody tr th {\n",
       "        vertical-align: top;\n",
       "    }\n",
       "\n",
       "    .dataframe thead th {\n",
       "        text-align: right;\n",
       "    }\n",
       "</style>\n",
       "<table border=\"1\" class=\"dataframe\">\n",
       "  <thead>\n",
       "    <tr style=\"text-align: right;\">\n",
       "      <th></th>\n",
       "      <th>name</th>\n",
       "      <th>online_order</th>\n",
       "      <th>book_table</th>\n",
       "      <th>rate</th>\n",
       "      <th>votes</th>\n",
       "      <th>approx_cost(for two people)</th>\n",
       "      <th>listed_in(type)</th>\n",
       "    </tr>\n",
       "  </thead>\n",
       "  <tbody>\n",
       "    <tr>\n",
       "      <th>0</th>\n",
       "      <td>Jalsa</td>\n",
       "      <td>Yes</td>\n",
       "      <td>Yes</td>\n",
       "      <td>4.1/5</td>\n",
       "      <td>544.25</td>\n",
       "      <td>800</td>\n",
       "      <td>Buffet</td>\n",
       "    </tr>\n",
       "    <tr>\n",
       "      <th>1</th>\n",
       "      <td>Spice Elephant</td>\n",
       "      <td>Yes</td>\n",
       "      <td>No</td>\n",
       "      <td>4.1/5</td>\n",
       "      <td>544.25</td>\n",
       "      <td>800</td>\n",
       "      <td>Buffet</td>\n",
       "    </tr>\n",
       "    <tr>\n",
       "      <th>2</th>\n",
       "      <td>San Churro Cafe</td>\n",
       "      <td>Yes</td>\n",
       "      <td>No</td>\n",
       "      <td>3.8/5</td>\n",
       "      <td>544.25</td>\n",
       "      <td>800</td>\n",
       "      <td>Buffet</td>\n",
       "    </tr>\n",
       "    <tr>\n",
       "      <th>3</th>\n",
       "      <td>Addhuri Udupi Bhojana</td>\n",
       "      <td>No</td>\n",
       "      <td>No</td>\n",
       "      <td>3.7/5</td>\n",
       "      <td>88.00</td>\n",
       "      <td>300</td>\n",
       "      <td>Buffet</td>\n",
       "    </tr>\n",
       "    <tr>\n",
       "      <th>4</th>\n",
       "      <td>Grand Village</td>\n",
       "      <td>No</td>\n",
       "      <td>No</td>\n",
       "      <td>3.8/5</td>\n",
       "      <td>166.00</td>\n",
       "      <td>600</td>\n",
       "      <td>Buffet</td>\n",
       "    </tr>\n",
       "    <tr>\n",
       "      <th>...</th>\n",
       "      <td>...</td>\n",
       "      <td>...</td>\n",
       "      <td>...</td>\n",
       "      <td>...</td>\n",
       "      <td>...</td>\n",
       "      <td>...</td>\n",
       "      <td>...</td>\n",
       "    </tr>\n",
       "    <tr>\n",
       "      <th>143</th>\n",
       "      <td>Melting Melodies</td>\n",
       "      <td>No</td>\n",
       "      <td>No</td>\n",
       "      <td>3.3/5</td>\n",
       "      <td>0.00</td>\n",
       "      <td>100</td>\n",
       "      <td>Dining</td>\n",
       "    </tr>\n",
       "    <tr>\n",
       "      <th>144</th>\n",
       "      <td>New Indraprasta</td>\n",
       "      <td>No</td>\n",
       "      <td>No</td>\n",
       "      <td>3.3/5</td>\n",
       "      <td>0.00</td>\n",
       "      <td>150</td>\n",
       "      <td>Dining</td>\n",
       "    </tr>\n",
       "    <tr>\n",
       "      <th>145</th>\n",
       "      <td>Anna Kuteera</td>\n",
       "      <td>Yes</td>\n",
       "      <td>No</td>\n",
       "      <td>4.0/5</td>\n",
       "      <td>544.25</td>\n",
       "      <td>450</td>\n",
       "      <td>Dining</td>\n",
       "    </tr>\n",
       "    <tr>\n",
       "      <th>146</th>\n",
       "      <td>Darbar</td>\n",
       "      <td>No</td>\n",
       "      <td>No</td>\n",
       "      <td>3.0/5</td>\n",
       "      <td>98.00</td>\n",
       "      <td>800</td>\n",
       "      <td>Dining</td>\n",
       "    </tr>\n",
       "    <tr>\n",
       "      <th>147</th>\n",
       "      <td>Vijayalakshmi</td>\n",
       "      <td>Yes</td>\n",
       "      <td>No</td>\n",
       "      <td>3.9/5</td>\n",
       "      <td>47.00</td>\n",
       "      <td>200</td>\n",
       "      <td>Dining</td>\n",
       "    </tr>\n",
       "  </tbody>\n",
       "</table>\n",
       "<p>148 rows × 7 columns</p>\n",
       "</div>"
      ],
      "text/plain": [
       "                      name online_order book_table   rate   votes  \\\n",
       "0                    Jalsa          Yes        Yes  4.1/5  544.25   \n",
       "1           Spice Elephant          Yes         No  4.1/5  544.25   \n",
       "2          San Churro Cafe          Yes         No  3.8/5  544.25   \n",
       "3    Addhuri Udupi Bhojana           No         No  3.7/5   88.00   \n",
       "4            Grand Village           No         No  3.8/5  166.00   \n",
       "..                     ...          ...        ...    ...     ...   \n",
       "143       Melting Melodies           No         No  3.3/5    0.00   \n",
       "144        New Indraprasta           No         No  3.3/5    0.00   \n",
       "145           Anna Kuteera          Yes         No  4.0/5  544.25   \n",
       "146                 Darbar           No         No  3.0/5   98.00   \n",
       "147          Vijayalakshmi          Yes         No  3.9/5   47.00   \n",
       "\n",
       "     approx_cost(for two people) listed_in(type)  \n",
       "0                            800          Buffet  \n",
       "1                            800          Buffet  \n",
       "2                            800          Buffet  \n",
       "3                            300          Buffet  \n",
       "4                            600          Buffet  \n",
       "..                           ...             ...  \n",
       "143                          100          Dining  \n",
       "144                          150          Dining  \n",
       "145                          450          Dining  \n",
       "146                          800          Dining  \n",
       "147                          200          Dining  \n",
       "\n",
       "[148 rows x 7 columns]"
      ]
     },
     "execution_count": 26,
     "metadata": {},
     "output_type": "execute_result"
    }
   ],
   "source": [
    "data"
   ]
  },
  {
   "cell_type": "code",
   "execution_count": 27,
   "id": "cb6117ca",
   "metadata": {
    "execution": {
     "iopub.execute_input": "2025-02-08T21:55:05.086896Z",
     "iopub.status.busy": "2025-02-08T21:55:05.086495Z",
     "iopub.status.idle": "2025-02-08T21:55:05.092673Z",
     "shell.execute_reply": "2025-02-08T21:55:05.091542Z"
    },
    "papermill": {
     "duration": 0.022412,
     "end_time": "2025-02-08T21:55:05.094481",
     "exception": false,
     "start_time": "2025-02-08T21:55:05.072069",
     "status": "completed"
    },
    "tags": []
   },
   "outputs": [],
   "source": [
    "data['book_table'] = data['book_table'].map({'Yes': 1, 'No': 0})"
   ]
  },
  {
   "cell_type": "code",
   "execution_count": 28,
   "id": "1a1af8bc",
   "metadata": {
    "execution": {
     "iopub.execute_input": "2025-02-08T21:55:05.122697Z",
     "iopub.status.busy": "2025-02-08T21:55:05.122215Z",
     "iopub.status.idle": "2025-02-08T21:55:05.137775Z",
     "shell.execute_reply": "2025-02-08T21:55:05.136546Z"
    },
    "papermill": {
     "duration": 0.031816,
     "end_time": "2025-02-08T21:55:05.139669",
     "exception": false,
     "start_time": "2025-02-08T21:55:05.107853",
     "status": "completed"
    },
    "tags": []
   },
   "outputs": [
    {
     "data": {
      "text/html": [
       "<div>\n",
       "<style scoped>\n",
       "    .dataframe tbody tr th:only-of-type {\n",
       "        vertical-align: middle;\n",
       "    }\n",
       "\n",
       "    .dataframe tbody tr th {\n",
       "        vertical-align: top;\n",
       "    }\n",
       "\n",
       "    .dataframe thead th {\n",
       "        text-align: right;\n",
       "    }\n",
       "</style>\n",
       "<table border=\"1\" class=\"dataframe\">\n",
       "  <thead>\n",
       "    <tr style=\"text-align: right;\">\n",
       "      <th></th>\n",
       "      <th>name</th>\n",
       "      <th>online_order</th>\n",
       "      <th>book_table</th>\n",
       "      <th>rate</th>\n",
       "      <th>votes</th>\n",
       "      <th>approx_cost(for two people)</th>\n",
       "      <th>listed_in(type)</th>\n",
       "    </tr>\n",
       "  </thead>\n",
       "  <tbody>\n",
       "    <tr>\n",
       "      <th>0</th>\n",
       "      <td>Jalsa</td>\n",
       "      <td>Yes</td>\n",
       "      <td>1</td>\n",
       "      <td>4.1/5</td>\n",
       "      <td>544.25</td>\n",
       "      <td>800</td>\n",
       "      <td>Buffet</td>\n",
       "    </tr>\n",
       "    <tr>\n",
       "      <th>1</th>\n",
       "      <td>Spice Elephant</td>\n",
       "      <td>Yes</td>\n",
       "      <td>0</td>\n",
       "      <td>4.1/5</td>\n",
       "      <td>544.25</td>\n",
       "      <td>800</td>\n",
       "      <td>Buffet</td>\n",
       "    </tr>\n",
       "    <tr>\n",
       "      <th>2</th>\n",
       "      <td>San Churro Cafe</td>\n",
       "      <td>Yes</td>\n",
       "      <td>0</td>\n",
       "      <td>3.8/5</td>\n",
       "      <td>544.25</td>\n",
       "      <td>800</td>\n",
       "      <td>Buffet</td>\n",
       "    </tr>\n",
       "    <tr>\n",
       "      <th>3</th>\n",
       "      <td>Addhuri Udupi Bhojana</td>\n",
       "      <td>No</td>\n",
       "      <td>0</td>\n",
       "      <td>3.7/5</td>\n",
       "      <td>88.00</td>\n",
       "      <td>300</td>\n",
       "      <td>Buffet</td>\n",
       "    </tr>\n",
       "    <tr>\n",
       "      <th>4</th>\n",
       "      <td>Grand Village</td>\n",
       "      <td>No</td>\n",
       "      <td>0</td>\n",
       "      <td>3.8/5</td>\n",
       "      <td>166.00</td>\n",
       "      <td>600</td>\n",
       "      <td>Buffet</td>\n",
       "    </tr>\n",
       "    <tr>\n",
       "      <th>...</th>\n",
       "      <td>...</td>\n",
       "      <td>...</td>\n",
       "      <td>...</td>\n",
       "      <td>...</td>\n",
       "      <td>...</td>\n",
       "      <td>...</td>\n",
       "      <td>...</td>\n",
       "    </tr>\n",
       "    <tr>\n",
       "      <th>143</th>\n",
       "      <td>Melting Melodies</td>\n",
       "      <td>No</td>\n",
       "      <td>0</td>\n",
       "      <td>3.3/5</td>\n",
       "      <td>0.00</td>\n",
       "      <td>100</td>\n",
       "      <td>Dining</td>\n",
       "    </tr>\n",
       "    <tr>\n",
       "      <th>144</th>\n",
       "      <td>New Indraprasta</td>\n",
       "      <td>No</td>\n",
       "      <td>0</td>\n",
       "      <td>3.3/5</td>\n",
       "      <td>0.00</td>\n",
       "      <td>150</td>\n",
       "      <td>Dining</td>\n",
       "    </tr>\n",
       "    <tr>\n",
       "      <th>145</th>\n",
       "      <td>Anna Kuteera</td>\n",
       "      <td>Yes</td>\n",
       "      <td>0</td>\n",
       "      <td>4.0/5</td>\n",
       "      <td>544.25</td>\n",
       "      <td>450</td>\n",
       "      <td>Dining</td>\n",
       "    </tr>\n",
       "    <tr>\n",
       "      <th>146</th>\n",
       "      <td>Darbar</td>\n",
       "      <td>No</td>\n",
       "      <td>0</td>\n",
       "      <td>3.0/5</td>\n",
       "      <td>98.00</td>\n",
       "      <td>800</td>\n",
       "      <td>Dining</td>\n",
       "    </tr>\n",
       "    <tr>\n",
       "      <th>147</th>\n",
       "      <td>Vijayalakshmi</td>\n",
       "      <td>Yes</td>\n",
       "      <td>0</td>\n",
       "      <td>3.9/5</td>\n",
       "      <td>47.00</td>\n",
       "      <td>200</td>\n",
       "      <td>Dining</td>\n",
       "    </tr>\n",
       "  </tbody>\n",
       "</table>\n",
       "<p>148 rows × 7 columns</p>\n",
       "</div>"
      ],
      "text/plain": [
       "                      name online_order  book_table   rate   votes  \\\n",
       "0                    Jalsa          Yes           1  4.1/5  544.25   \n",
       "1           Spice Elephant          Yes           0  4.1/5  544.25   \n",
       "2          San Churro Cafe          Yes           0  3.8/5  544.25   \n",
       "3    Addhuri Udupi Bhojana           No           0  3.7/5   88.00   \n",
       "4            Grand Village           No           0  3.8/5  166.00   \n",
       "..                     ...          ...         ...    ...     ...   \n",
       "143       Melting Melodies           No           0  3.3/5    0.00   \n",
       "144        New Indraprasta           No           0  3.3/5    0.00   \n",
       "145           Anna Kuteera          Yes           0  4.0/5  544.25   \n",
       "146                 Darbar           No           0  3.0/5   98.00   \n",
       "147          Vijayalakshmi          Yes           0  3.9/5   47.00   \n",
       "\n",
       "     approx_cost(for two people) listed_in(type)  \n",
       "0                            800          Buffet  \n",
       "1                            800          Buffet  \n",
       "2                            800          Buffet  \n",
       "3                            300          Buffet  \n",
       "4                            600          Buffet  \n",
       "..                           ...             ...  \n",
       "143                          100          Dining  \n",
       "144                          150          Dining  \n",
       "145                          450          Dining  \n",
       "146                          800          Dining  \n",
       "147                          200          Dining  \n",
       "\n",
       "[148 rows x 7 columns]"
      ]
     },
     "execution_count": 28,
     "metadata": {},
     "output_type": "execute_result"
    }
   ],
   "source": [
    "data"
   ]
  },
  {
   "cell_type": "code",
   "execution_count": 29,
   "id": "bd442c4a",
   "metadata": {
    "execution": {
     "iopub.execute_input": "2025-02-08T21:55:05.168531Z",
     "iopub.status.busy": "2025-02-08T21:55:05.168062Z",
     "iopub.status.idle": "2025-02-08T21:55:05.298886Z",
     "shell.execute_reply": "2025-02-08T21:55:05.297727Z"
    },
    "papermill": {
     "duration": 0.147513,
     "end_time": "2025-02-08T21:55:05.300751",
     "exception": false,
     "start_time": "2025-02-08T21:55:05.153238",
     "status": "completed"
    },
    "tags": []
   },
   "outputs": [
    {
     "data": {
      "text/plain": [
       "<Axes: ylabel='count'>"
      ]
     },
     "execution_count": 29,
     "metadata": {},
     "output_type": "execute_result"
    },
    {
     "data": {
      "image/png": "[encoded data removed]",
      "text/plain": [
       "<Figure size 800x800 with 1 Axes>"
      ]
     },
     "metadata": {},
     "output_type": "display_data"
    }
   ],
   "source": [
    "plt.figure(figsize=(8,8))\n",
    "data['book_table'].value_counts().plot.pie(autopct='%.2f%%',colors=['#4682b4', '#32cd32'])"
   ]
  },
  {
   "cell_type": "code",
   "execution_count": 30,
   "id": "0c71dd3d",
   "metadata": {
    "execution": {
     "iopub.execute_input": "2025-02-08T21:55:05.330920Z",
     "iopub.status.busy": "2025-02-08T21:55:05.330473Z",
     "iopub.status.idle": "2025-02-08T21:55:05.337786Z",
     "shell.execute_reply": "2025-02-08T21:55:05.336581Z"
    },
    "papermill": {
     "duration": 0.024678,
     "end_time": "2025-02-08T21:55:05.339814",
     "exception": false,
     "start_time": "2025-02-08T21:55:05.315136",
     "status": "completed"
    },
    "tags": []
   },
   "outputs": [
    {
     "data": {
      "text/plain": [
       "Index(['name', 'online_order', 'book_table', 'rate', 'votes',\n",
       "       'approx_cost(for two people)', 'listed_in(type)'],\n",
       "      dtype='object')"
      ]
     },
     "execution_count": 30,
     "metadata": {},
     "output_type": "execute_result"
    }
   ],
   "source": [
    "data.columns"
   ]
  },
  {
   "cell_type": "code",
   "execution_count": 31,
   "id": "726711bf",
   "metadata": {
    "execution": {
     "iopub.execute_input": "2025-02-08T21:55:05.372242Z",
     "iopub.status.busy": "2025-02-08T21:55:05.371852Z",
     "iopub.status.idle": "2025-02-08T21:55:05.538462Z",
     "shell.execute_reply": "2025-02-08T21:55:05.537245Z"
    },
    "papermill": {
     "duration": 0.185189,
     "end_time": "2025-02-08T21:55:05.540395",
     "exception": false,
     "start_time": "2025-02-08T21:55:05.355206",
     "status": "completed"
    },
    "tags": []
   },
   "outputs": [
    {
     "data": {
      "text/plain": [
       "<Axes: ylabel='count'>"
      ]
     },
     "execution_count": 31,
     "metadata": {},
     "output_type": "execute_result"
    },
    {
     "data": {
      "image/png": "[encoded data removed]",
      "text/plain": [
       "<Figure size 640x480 with 1 Axes>"
      ]
     },
     "metadata": {},
     "output_type": "display_data"
    }
   ],
   "source": [
    "(data.groupby('listed_in(type)')['book_table']).value_counts().plot.pie(autopct='%.2f%%')"
   ]
  },
  {
   "cell_type": "code",
   "execution_count": 32,
   "id": "e352f1f1",
   "metadata": {
    "execution": {
     "iopub.execute_input": "2025-02-08T21:55:05.574431Z",
     "iopub.status.busy": "2025-02-08T21:55:05.573965Z",
     "iopub.status.idle": "2025-02-08T21:55:05.833319Z",
     "shell.execute_reply": "2025-02-08T21:55:05.832182Z"
    },
    "papermill": {
     "duration": 0.278276,
     "end_time": "2025-02-08T21:55:05.834958",
     "exception": false,
     "start_time": "2025-02-08T21:55:05.556682",
     "status": "completed"
    },
    "tags": []
   },
   "outputs": [
    {
     "data": {
      "text/plain": [
       "Text(0, 0.5, 'Count')"
      ]
     },
     "execution_count": 32,
     "metadata": {},
     "output_type": "execute_result"
    },
    {
     "data": {
      "image/png": "[encoded data removed]",
      "text/plain": [
       "<Figure size 640x480 with 1 Axes>"
      ]
     },
     "metadata": {},
     "output_type": "display_data"
    }
   ],
   "source": [
    "sns.countplot(x='book_table', data=data, hue='listed_in(type)', palette='Set2')\n",
    "plt.title(\"Count of Book Table by Listed Type\")\n",
    "plt.xlabel(\"Book Table\")\n",
    "plt.ylabel(\"Count\")"
   ]
  },
  {
   "cell_type": "markdown",
   "id": "41f9445a",
   "metadata": {
    "papermill": {
     "duration": 0.015626,
     "end_time": "2025-02-08T21:55:05.867123",
     "exception": false,
     "start_time": "2025-02-08T21:55:05.851497",
     "status": "completed"
    },
    "tags": []
   },
   "source": [
    "<h3 style=\"color: black; display: inline-block; padding: 10px; text-align: left; margin: 0;\">\n",
    "  Data Feature: Book Table and Type Bias to Dining\n",
    "</h3>\n",
    "<p>\n",
    "  The data reveals that most individuals who choose the \"Dining\" type do not book a table. This suggests that the \"Book Table\" feature shows a bias toward people who prefer dining without making prior reservations.\n",
    "</p>\n"
   ]
  }
 ],
 "metadata": {
  "kaggle": {
   "accelerator": "none",
   "dataSources": [
    {
     "datasetId": 6517876,
     "sourceId": 10534101,
     "sourceType": "datasetVersion"
    }
   ],
   "dockerImageVersionId": 30886,
   "isGpuEnabled": false,
   "isInternetEnabled": true,
   "language": "python",
   "sourceType": "notebook"
  },
  "kernelspec": {
   "display_name": "Python 3",
   "language": "python",
   "name": "python3"
  },
  "language_info": {
   "codemirror_mode": {
    "name": "ipython",
    "version": 3
   },
   "file_extension": ".py",
   "mimetype": "text/x-python",
   "name": "python",
   "nbconvert_exporter": "python",
   "pygments_lexer": "ipython3",
   "version": "3.10.12"
  },
  "papermill": {
   "default_parameters": {},
   "duration": 10.355761,
   "end_time": "2025-02-08T21:55:06.605028",
   "environment_variables": {},
   "exception": null,
   "input_path": "__notebook__.ipynb",
   "output_path": "__notebook__.ipynb",
   "parameters": {},
   "start_time": "2025-02-08T21:54:56.249267",
   "version": "2.6.0"
  }
 },
 "nbformat": 4,
 "nbformat_minor": 5
}
